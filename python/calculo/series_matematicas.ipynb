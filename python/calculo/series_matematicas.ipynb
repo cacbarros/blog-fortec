{
 "cells": [
  {
   "cell_type": "code",
   "execution_count": 1,
   "id": "6488fadb-536b-4b5e-81da-429495719a6d",
   "metadata": {},
   "outputs": [
    {
     "name": "stdout",
     "output_type": "stream",
     "text": [
      "Soma dos 10 primeiros termos: 3.9961\n"
     ]
    }
   ],
   "source": [
    "# -*- coding: utf-8 -*-\n",
    "\n",
    "# Exemplo simples de cálculo de soma de uma série geométrica em Python\n",
    "\n",
    "def soma_serie_geometrica(a, r, n):\n",
    "    \"\"\"\n",
    "    Calcula a soma dos n primeiros termos de uma série geométrica.\n",
    "    a: termo inicial\n",
    "    r: razão\n",
    "    n: número de termos\n",
    "    \"\"\"\n",
    "    soma = a * (1 - r**n) / (1 - r) if r != 1 else a * n\n",
    "    return soma\n",
    "\n",
    "# Exemplo de uso\n",
    "if __name__ == \"__main__\":\n",
    "    a = 2\n",
    "    r = 0.5\n",
    "    n = 10\n",
    "    resultado = soma_serie_geometrica(a, r, n)\n",
    "    print(f\"Soma dos {n} primeiros termos: {resultado:.4f}\")\n"
   ]
  },
  {
   "cell_type": "code",
   "execution_count": 2,
   "id": "7135c70a-d772-4cd3-b10e-da1c857e93d1",
   "metadata": {},
   "outputs": [
    {
     "name": "stdout",
     "output_type": "stream",
     "text": [
      "Primeiros 10 termos da sequência de Fibonacci: [0, 1, 1, 2, 3, 5, 8, 13, 21, 34]\n"
     ]
    }
   ],
   "source": [
    "# Código presente em: python/serie_fibonacci.py\n",
    "\n",
    "def fibonacci(n):\n",
    "    \"\"\"\n",
    "    Retorna uma lista com os n primeiros termos da sequência de Fibonacci.\n",
    "    \"\"\"\n",
    "    seq = [0, 1]\n",
    "    for i in range(2, n):\n",
    "        seq.append(seq[-1] + seq[-2])\n",
    "    return seq[:n]\n",
    "\n",
    "# Exemplo de uso\n",
    "if __name__ == \"__main__\":\n",
    "    n = 10\n",
    "    resultado = fibonacci(n)\n",
    "    print(f\"Primeiros {n} termos da sequência de Fibonacci: {resultado}\")\n"
   ]
  },
  {
   "cell_type": "code",
   "execution_count": null,
   "id": "2ce1f68e-c1e8-4320-b447-5807e351d8d4",
   "metadata": {},
   "outputs": [],
   "source": []
  }
 ],
 "metadata": {
  "kernelspec": {
   "display_name": "Python (ctgan_env)",
   "language": "python",
   "name": "ctgan_env"
  },
  "language_info": {
   "codemirror_mode": {
    "name": "ipython",
    "version": 3
   },
   "file_extension": ".py",
   "mimetype": "text/x-python",
   "name": "python",
   "nbconvert_exporter": "python",
   "pygments_lexer": "ipython3",
   "version": "3.9.21"
  }
 },
 "nbformat": 4,
 "nbformat_minor": 5
}
